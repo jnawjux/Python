{
 "cells": [
  {
   "cell_type": "code",
   "execution_count": 1,
   "metadata": {},
   "outputs": [],
   "source": [
    "# Let's write a loop that will build a list of the characters of the\n",
    "# string: 'supercalifragilisticexpialidocious'\n",
    "\n",
    "word = 'supercalifragilisticexpialidocious'"
   ]
  },
  {
   "cell_type": "code",
   "execution_count": 6,
   "metadata": {},
   "outputs": [
    {
     "name": "stdout",
     "output_type": "stream",
     "text": [
      "['S', 'U', 'P', 'E', 'R', 'C', 'A', 'L', 'I', 'F', 'R', 'A', 'G', 'I', 'L', 'I', 'S', 'T', 'I', 'C', 'E', 'X', 'P', 'I', 'A', 'L', 'I', 'D', 'O', 'C', 'I', 'O', 'U', 'S']\n"
     ]
    }
   ],
   "source": [
    "letters = [a.upper() for a in word]\n",
    "print(letters)"
   ]
  },
  {
   "cell_type": "code",
   "execution_count": 40,
   "metadata": {},
   "outputs": [],
   "source": [
    "# List comprehension\n",
    "primes = [2, 3, 5, 7, 11, 13, 17, 19]\n",
    "double = [x*2 for x in primes]"
   ]
  },
  {
   "cell_type": "code",
   "execution_count": 41,
   "metadata": {},
   "outputs": [
    {
     "data": {
      "text/plain": [
       "['Elephant', 'Giraffe', 'Monkey']"
      ]
     },
     "execution_count": 41,
     "metadata": {},
     "output_type": "execute_result"
    }
   ],
   "source": [
    "# Dictionary methods\n",
    "zoo = {1: 'giraffe', 2: 'elephant', 3: 'monkey'}\n",
    "[x.title() for x in sorted(zoo.values())]"
   ]
  },
  {
   "cell_type": "code",
   "execution_count": 42,
   "metadata": {},
   "outputs": [
    {
     "data": {
      "text/plain": [
       "[(3, 'monkey'), (2, 'elephant'), (1, 'giraffe')]"
      ]
     },
     "execution_count": 42,
     "metadata": {},
     "output_type": "execute_result"
    }
   ],
   "source": [
    "sorted(list(zoo.items()),reverse=True)"
   ]
  },
  {
   "cell_type": "markdown",
   "metadata": {},
   "source": [
    "A good first start is to take the input number and start dividing by 2. But when do I stop? Answer: When I reach an odd number!"
   ]
  },
  {
   "cell_type": "code",
   "execution_count": 63,
   "metadata": {},
   "outputs": [
    {
     "data": {
      "text/plain": [
       "9"
      ]
     },
     "execution_count": 63,
     "metadata": {},
     "output_type": "execute_result"
    }
   ],
   "source": [
    "# Let's code it!\n",
    "\n",
    "num = 1536\n",
    "ctr = 0\n",
    "while num % 2 == 0:\n",
    "    ctr += 1\n",
    "    num /= 2\n",
    "ctr"
   ]
  },
  {
   "cell_type": "code",
   "execution_count": 47,
   "metadata": {},
   "outputs": [],
   "source": [
    "while type(num) == int:\n",
    "    ctr += 1\n",
    "    num = int(num/2)"
   ]
  },
  {
   "cell_type": "code",
   "execution_count": 60,
   "metadata": {},
   "outputs": [
    {
     "name": "stdout",
     "output_type": "stream",
     "text": [
      "1234567\n",
      "9876543\n",
      "1111111\n",
      "3333333\n"
     ]
    }
   ],
   "source": [
    "phone_nos = [{'greg': {'home': 1234567, 'work': 7654321}},\n",
    "          {'miles': {'home': 9876543, 'work': 1010001}},\n",
    "            {'cristian': {'home': 1111111, 'work': 2222222}},\n",
    "            {'kena': {'home': 3333333, 'work': 4444444}}]\n",
    "\n",
    "for dic in phone_nos:\n",
    "    for num in dic.values():\n",
    "        print(num['home'])"
   ]
  },
  {
   "cell_type": "code",
   "execution_count": 76,
   "metadata": {},
   "outputs": [],
   "source": [
    "# Function!\n",
    "\n",
    "def factors_of_two(number):\n",
    "    # Calculate how many factors of two\n",
    "    ctr = 0\n",
    "    while number % 2 == 0:\n",
    "        ctr += 1\n",
    "        number /= 2\n",
    "    return ctr"
   ]
  },
  {
   "cell_type": "code",
   "execution_count": 77,
   "metadata": {},
   "outputs": [
    {
     "data": {
      "text/plain": [
       "9"
      ]
     },
     "execution_count": 77,
     "metadata": {},
     "output_type": "execute_result"
    }
   ],
   "source": [
    "factors_of_two(1536)"
   ]
  },
  {
   "cell_type": "code",
   "execution_count": 95,
   "metadata": {},
   "outputs": [],
   "source": [
    "# Default arguments in a function\n",
    "\n",
    "def cheers(name, job='data scientist', age = 80):\n",
    "    return 'Hooray for ' + name + '. You\\'re a ' + job + '! You will live till you\\'re ' + str(age)"
   ]
  },
  {
   "cell_type": "code",
   "execution_count": 96,
   "metadata": {},
   "outputs": [
    {
     "data": {
      "text/plain": [
       "\"Hooray for Tom. You're a auctioneer! You will live till you're 80\""
      ]
     },
     "execution_count": 96,
     "metadata": {},
     "output_type": "execute_result"
    }
   ],
   "source": [
    "cheers('Tom','auctioneer')"
   ]
  },
  {
   "cell_type": "code",
   "execution_count": 97,
   "metadata": {},
   "outputs": [
    {
     "data": {
      "text/plain": [
       "\"Hooray for Sam. You're a data scientist! You will live till you're 65\""
      ]
     },
     "execution_count": 97,
     "metadata": {},
     "output_type": "execute_result"
    }
   ],
   "source": [
    "cheers('Sam', age = 65)"
   ]
  },
  {
   "cell_type": "code",
   "execution_count": null,
   "metadata": {},
   "outputs": [],
   "source": []
  }
 ],
 "metadata": {
  "kernelspec": {
   "display_name": "Python 3",
   "language": "python",
   "name": "python3"
  },
  "language_info": {
   "codemirror_mode": {
    "name": "ipython",
    "version": 3
   },
   "file_extension": ".py",
   "mimetype": "text/x-python",
   "name": "python",
   "nbconvert_exporter": "python",
   "pygments_lexer": "ipython3",
   "version": "3.6.6"
  }
 },
 "nbformat": 4,
 "nbformat_minor": 2
}
